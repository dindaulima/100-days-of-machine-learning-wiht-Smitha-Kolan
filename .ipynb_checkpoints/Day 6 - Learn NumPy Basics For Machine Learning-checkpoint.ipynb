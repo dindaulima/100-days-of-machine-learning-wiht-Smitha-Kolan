{
 "cells": [
  {
   "cell_type": "code",
   "execution_count": 1,
   "metadata": {},
   "outputs": [],
   "source": [
    "import numpy as np"
   ]
  },
  {
   "cell_type": "code",
   "execution_count": 3,
   "metadata": {},
   "outputs": [
    {
     "name": "stdout",
     "output_type": "stream",
     "text": [
      "[1.2 2.4 3.5 4.7 6.1 7.2 8.3 9.5]\n"
     ]
    }
   ],
   "source": [
    "one_dimensional_array = np.array([1.2,2.4,3.5,4.7,6.1,7.2,8.3,9.5])\n",
    "print(one_dimensional_array)"
   ]
  },
  {
   "cell_type": "code",
   "execution_count": 5,
   "metadata": {},
   "outputs": [
    {
     "name": "stdout",
     "output_type": "stream",
     "text": [
      "[[ 6  5]\n",
      " [11  7]\n",
      " [ 4  8]]\n"
     ]
    }
   ],
   "source": [
    "two_dimensional_array = np.array([[6,5],[11,7],[4,8]])\n",
    "print(two_dimensional_array)"
   ]
  },
  {
   "cell_type": "code",
   "execution_count": 7,
   "metadata": {},
   "outputs": [
    {
     "data": {
      "text/plain": [
       "array([0., 0., 0.])"
      ]
     },
     "execution_count": 7,
     "metadata": {},
     "output_type": "execute_result"
    }
   ],
   "source": [
    "np.zeros(3)"
   ]
  },
  {
   "cell_type": "code",
   "execution_count": 9,
   "metadata": {},
   "outputs": [
    {
     "data": {
      "text/plain": [
       "array([1., 1., 1., 1.])"
      ]
     },
     "execution_count": 9,
     "metadata": {},
     "output_type": "execute_result"
    }
   ],
   "source": [
    "np.ones(4)"
   ]
  },
  {
   "cell_type": "code",
   "execution_count": 12,
   "metadata": {},
   "outputs": [
    {
     "name": "stdout",
     "output_type": "stream",
     "text": [
      "[[0. 0.]\n",
      " [0. 0.]\n",
      " [0. 0.]]\n"
     ]
    }
   ],
   "source": [
    "array_zeros = np.zeros([3,2])\n",
    "print(array_zeros)"
   ]
  },
  {
   "cell_type": "code",
   "execution_count": 13,
   "metadata": {},
   "outputs": [
    {
     "name": "stdout",
     "output_type": "stream",
     "text": [
      "[[1. 1.]\n",
      " [1. 1.]\n",
      " [1. 1.]]\n"
     ]
    }
   ],
   "source": [
    "array_ones = np.ones([3,2])\n",
    "print(array_ones)"
   ]
  },
  {
   "cell_type": "code",
   "execution_count": 15,
   "metadata": {},
   "outputs": [
    {
     "name": "stdout",
     "output_type": "stream",
     "text": [
      "[ 5  6  7  8  9 10 11]\n"
     ]
    }
   ],
   "source": [
    "sequences_of_integer = np.arange(5,12)\n",
    "print(sequences_of_integer)"
   ]
  },
  {
   "cell_type": "code",
   "execution_count": 16,
   "metadata": {},
   "outputs": [
    {
     "name": "stdout",
     "output_type": "stream",
     "text": [
      "[91 67 55 60 83 68]\n"
     ]
    }
   ],
   "source": [
    "random_integers_between_50_and_100 = np.random.randint(low=50,high=101,size=(6))\n",
    "print(random_integers_between_50_and_100)"
   ]
  },
  {
   "cell_type": "code",
   "execution_count": 17,
   "metadata": {},
   "outputs": [
    {
     "name": "stdout",
     "output_type": "stream",
     "text": [
      "[0.96079706 0.83818703 0.46537882 0.90921294 0.66490244 0.02525624]\n"
     ]
    }
   ],
   "source": [
    "random_float_between_0_and_1 = np.random.random([6])\n",
    "print(random_float_between_0_and_1)"
   ]
  },
  {
   "cell_type": "code",
   "execution_count": 21,
   "metadata": {},
   "outputs": [
    {
     "name": "stdout",
     "output_type": "stream",
     "text": [
      "Task 1: Create a Linear Dataset\n",
      "Your goal is to create a simple dataset consisting of a single feature and a label as follows:\n",
      "1. Assign a squence of integers from 6 to 20 (inslusive) to NumPy array named feature.\n",
      "2. Assign 15 values to a NumPy array named label such that:\n",
      "label = (3)(feature) + 4\n",
      "label = (3)(6) + 4 = 22\n"
     ]
    }
   ],
   "source": [
    "print(\"Task 1: Create a Linear Dataset\")\n",
    "print(\"Your goal is to create a simple dataset consisting of a single feature and a label as follows:\")\n",
    "print(\"1. Assign a squence of integers from 6 to 20 (inslusive) to NumPy array named feature.\")\n",
    "print(\"2. Assign 15 values to a NumPy array named label such that:\")\n",
    "print(\"label = (3)(feature) + 4\")\n",
    "print(\"label = (3)(6) + 4 = 22\")"
   ]
  },
  {
   "cell_type": "code",
   "execution_count": 23,
   "metadata": {},
   "outputs": [
    {
     "name": "stdout",
     "output_type": "stream",
     "text": [
      "feature : \n",
      "[ 6  7  8  9 10 11 12 13 14 15 16 17 18 19 20]\n",
      "label : \n",
      "[22 25 28 31 34 37 40 43 46 49 52 55 58 61 64]\n"
     ]
    }
   ],
   "source": [
    "feature = np.arange(6,21)\n",
    "print(\"feature : \")\n",
    "print(feature)\n",
    "label = 3*feature + 4\n",
    "print(\"label : \")\n",
    "print(label)\n"
   ]
  },
  {
   "cell_type": "code",
   "execution_count": 26,
   "metadata": {},
   "outputs": [
    {
     "name": "stdout",
     "output_type": "stream",
     "text": [
      "Task 2 : Add Some Noise to the Dataset\n",
      "To make your dataset a little more realistic, insert a little random noise into each element of the label array you already created.\n",
      "To be more pprecise, modify each value assigned to label by adding a different random floating-point value between -2 and +2.\n",
      "Don't rely in broadcasting. Instead, create a noise array having the same dimension as label.\n"
     ]
    }
   ],
   "source": [
    "print(\"Task 2 : Add Some Noise to the Dataset\")\n",
    "print(\"To make your dataset a little more realistic, insert a little random noise into each element of the label array you already created.\")\n",
    "print(\"To be more pprecise, modify each value assigned to label by adding a different random floating-point value between -2 and +2.\")\n",
    "print(\"Don't rely in broadcasting. Instead, create a noise array having the same dimension as label.\")"
   ]
  },
  {
   "cell_type": "code",
   "execution_count": 27,
   "metadata": {},
   "outputs": [
    {
     "name": "stdout",
     "output_type": "stream",
     "text": [
      "[ 1.0301423  -1.78295892 -0.83745852  0.71253722 -1.12058424 -1.84266593\n",
      " -0.77580887  0.25759419 -0.43272208  0.49071947 -1.3546317   0.23418048\n",
      "  1.32649785  0.04999316 -0.38675153]\n",
      "[23.49213945 21.5665226  25.20857679 31.64439895 32.07622741 36.0462764\n",
      " 37.88751482 44.51630702 46.88333623 51.00701401 51.82736204 56.33381512\n",
      " 59.30558904 59.48591691 65.27892111]\n"
     ]
    }
   ],
   "source": [
    "noise = np.random.random(15)*4 - 2 #(0,1)*4 -2 = (0,4)-2 = (-2,2)\n",
    "print(noise)\n",
    "label = label + noise\n",
    "print(label)"
   ]
  },
  {
   "cell_type": "code",
   "execution_count": null,
   "metadata": {},
   "outputs": [],
   "source": []
  }
 ],
 "metadata": {
  "kernelspec": {
   "display_name": "Python 3",
   "language": "python",
   "name": "python3"
  },
  "language_info": {
   "codemirror_mode": {
    "name": "ipython",
    "version": 3
   },
   "file_extension": ".py",
   "mimetype": "text/x-python",
   "name": "python",
   "nbconvert_exporter": "python",
   "pygments_lexer": "ipython3",
   "version": "3.9.0"
  }
 },
 "nbformat": 4,
 "nbformat_minor": 4
}
